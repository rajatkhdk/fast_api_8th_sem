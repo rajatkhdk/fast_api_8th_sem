{
 "cells": [
  {
   "cell_type": "code",
   "execution_count": 1,
   "id": "1f038047",
   "metadata": {},
   "outputs": [],
   "source": [
    "import pandas as pd\n",
    "import numpy as np"
   ]
  },
  {
   "cell_type": "code",
   "execution_count": 7,
   "id": "d5efdda4",
   "metadata": {},
   "outputs": [],
   "source": [
    "def calculate_calories(weight_kg, height_cm, age, gender, activity_level, goal):\n",
    "    # BMR calculation\n",
    "    if gender.lower() == 'male':\n",
    "        bmr = 10 * weight_kg + 6.25 * height_cm - 5 * age + 5\n",
    "    else:\n",
    "        bmr = 10 * weight_kg + 6.25 * height_cm - 5 * age - 161\n",
    "\n",
    "    # Activity multiplier\n",
    "    activity_multipliers = {\n",
    "        'sedentary': 1.2,\n",
    "        'light': 1.375,\n",
    "        'moderate': 1.55,\n",
    "        'active': 1.725,\n",
    "        'very active': 1.9\n",
    "    }\n",
    "    activity_multiplier = activity_multipliers.get(activity_level.lower(), 1.2)\n",
    "\n",
    "    tdee = bmr * activity_multiplier\n",
    "\n",
    "    print(\"The tdee is :\",tdee)\n",
    "\n",
    "    # Goal adjustment\n",
    "    goal = goal.lower()\n",
    "    if goal == 'fatloss':\n",
    "        return tdee - 500\n",
    "    elif goal == 'musclegain':\n",
    "        return tdee + 300\n",
    "    elif goal == 'endurance':\n",
    "        return tdee + 150\n",
    "    else:  # maintenance\n",
    "        return tdee"
   ]
  },
  {
   "cell_type": "code",
   "execution_count": 26,
   "id": "13e3e038",
   "metadata": {},
   "outputs": [
    {
     "name": "stdout",
     "output_type": "stream",
     "text": [
      "The tdee is : 2739.625\n"
     ]
    },
    {
     "data": {
      "text/plain": [
       "2739.625"
      ]
     },
     "execution_count": 26,
     "metadata": {},
     "output_type": "execute_result"
    }
   ],
   "source": [
    "calculate_calories(74, 182, 23, \"male\", \"moderate\", \"strength\")"
   ]
  },
  {
   "cell_type": "code",
   "execution_count": 8,
   "id": "5e16c4c6",
   "metadata": {},
   "outputs": [],
   "source": [
    "MACRO_GUIDELINES = {\n",
    "    \"sedentary\": {\n",
    "        \"fat_loss\":     {\"protein_g_per_kg\": (1.2, 1.6), \"fat_pct\": 30, \"carb_pct\": 40},\n",
    "        \"muscle_gain\":  {\"protein_g_per_kg\": (1.4, 1.8), \"fat_pct\": 25, \"carb_pct\": 50},\n",
    "        \"strength\":     {\"protein_g_per_kg\": (1.4, 1.8), \"fat_pct\": 30, \"carb_pct\": 45},\n",
    "        \"endurance\":    {\"protein_g_per_kg\": (1.2, 1.5), \"fat_pct\": 25, \"carb_pct\": 55}\n",
    "    },\n",
    "    \"light\": {\n",
    "        \"fat_loss\":     {\"protein_g_per_kg\": (1.4, 1.8), \"fat_pct\": 30, \"carb_pct\": 40},\n",
    "        \"muscle_gain\":  {\"protein_g_per_kg\": (1.6, 2.0), \"fat_pct\": 25, \"carb_pct\": 50},\n",
    "        \"strength\":     {\"protein_g_per_kg\": (1.6, 2.0), \"fat_pct\": 25, \"carb_pct\": 50},\n",
    "        \"endurance\":    {\"protein_g_per_kg\": (1.4, 1.6), \"fat_pct\": 25, \"carb_pct\": 55}\n",
    "    },\n",
    "    \"moderate\": {\n",
    "        \"fat_loss\":     {\"protein_g_per_kg\": (1.6, 2.0), \"fat_pct\": 30, \"carb_pct\": 40},\n",
    "        \"muscle_gain\":  {\"protein_g_per_kg\": (1.8, 2.2), \"fat_pct\": 25, \"carb_pct\": 50},\n",
    "        \"strength\":     {\"protein_g_per_kg\": (1.8, 2.2), \"fat_pct\": 25, \"carb_pct\": 50},\n",
    "        \"endurance\":    {\"protein_g_per_kg\": (1.5, 1.8), \"fat_pct\": 20, \"carb_pct\": 60}\n",
    "    },\n",
    "    \"active\": {\n",
    "        \"fat_loss\":     {\"protein_g_per_kg\": (1.8, 2.2), \"fat_pct\": 30, \"carb_pct\": 40},\n",
    "        \"muscle_gain\":  {\"protein_g_per_kg\": (2.0, 2.2), \"fat_pct\": 25, \"carb_pct\": 50},\n",
    "        \"strength\":     {\"protein_g_per_kg\": (2.0, 2.2), \"fat_pct\": 25, \"carb_pct\": 50},\n",
    "        \"endurance\":    {\"protein_g_per_kg\": (1.6, 1.8), \"fat_pct\": 20, \"carb_pct\": 60}\n",
    "    },\n",
    "    \"very_active\": {\n",
    "        \"fat_loss\":     {\"protein_g_per_kg\": (2.0, 2.4), \"fat_pct\": 30, \"carb_pct\": 40},\n",
    "        \"muscle_gain\":  {\"protein_g_per_kg\": (2.0, 2.4), \"fat_pct\": 20, \"carb_pct\": 55},\n",
    "        \"strength\":     {\"protein_g_per_kg\": (2.0, 2.4), \"fat_pct\": 25, \"carb_pct\": 50},\n",
    "        \"endurance\":    {\"protein_g_per_kg\": (1.6, 2.0), \"fat_pct\": 20, \"carb_pct\": 60}\n",
    "    }\n",
    "}\n",
    "\n",
    "def calculate_macros(goal, activity_level, tdee, weight_kg, fitness_level):\n",
    "    goal = goal.lower()\n",
    "    activity_level = activity_level.lower()\n",
    "    fitness_level = fitness_level.lower()\n",
    "\n",
    "    guidelines = MACRO_GUIDELINES[activity_level][goal]\n",
    "    \n",
    "    # Step 1: Select protein per kg based on fitness level\n",
    "    protein_range = guidelines[\"protein_g_per_kg\"]\n",
    "    if fitness_level == \"beginner\":\n",
    "        protein_per_kg = protein_range[0]\n",
    "    elif fitness_level == \"intermediate\":\n",
    "        protein_per_kg = sum(protein_range) / 2\n",
    "    elif fitness_level == \"advanced\":\n",
    "        protein_per_kg = protein_range[1]\n",
    "    else:\n",
    "        raise ValueError(\"Invalid fitness_level\")\n",
    "\n",
    "    # Step 2: Calculate protein in grams and kcal\n",
    "    protein_g = round(protein_per_kg * weight_kg)\n",
    "    protein_kcal = protein_g * 4\n",
    "\n",
    "    # Step 3: Calculate fat and carbs from remaining kcal\n",
    "    fat_pct = guidelines[\"fat_pct\"] / 100\n",
    "    carb_pct = guidelines[\"carb_pct\"] / 100\n",
    "    total_pct = fat_pct + carb_pct\n",
    "\n",
    "    remaining_kcal = tdee - protein_kcal\n",
    "    fat_kcal = round((fat_pct / total_pct) * remaining_kcal)\n",
    "    carb_kcal = round((carb_pct / total_pct) * remaining_kcal)\n",
    "\n",
    "    fat_g = round(fat_kcal / 9)\n",
    "    carb_g = round(carb_kcal / 4)\n",
    "\n",
    "    return {\n",
    "        \"calories_kcal\": tdee,\n",
    "        \"protein_g\": protein_g,\n",
    "        \"fat_g\": fat_g,\n",
    "        \"carbohydrate_g\": carb_g,\n",
    "        \"protein_kcal\": protein_kcal,\n",
    "        \"fat_kcal\": fat_kcal,\n",
    "        \"carb_kcal\": carb_kcal,\n",
    "        \"total_kcal_from_macros\": protein_kcal + fat_kcal + carb_kcal\n",
    "    }\n"
   ]
  },
  {
   "cell_type": "code",
   "execution_count": 15,
   "id": "cdacf769",
   "metadata": {},
   "outputs": [
    {
     "data": {
      "text/plain": [
       "{'calories_kcal': 2050,\n",
       " 'protein_g': 118,\n",
       " 'fat_g': 75,\n",
       " 'carbohydrate_g': 226,\n",
       " 'protein_kcal': 472,\n",
       " 'fat_kcal': 676,\n",
       " 'carb_kcal': 902,\n",
       " 'total_kcal_from_macros': 2050}"
      ]
     },
     "execution_count": 15,
     "metadata": {},
     "output_type": "execute_result"
    }
   ],
   "source": [
    "calculate_macros(\"fat_loss\", \"moderate\", 2050, 74, \"beginner\")"
   ]
  },
  {
   "cell_type": "code",
   "execution_count": 16,
   "id": "70361714",
   "metadata": {},
   "outputs": [
    {
     "name": "stdout",
     "output_type": "stream",
     "text": [
      "{'calories_kcal': 2700, 'protein_g': 133, 'fat_g': 80, 'carbohydrate_g': 361, 'protein_kcal': 532, 'fat_kcal': 723, 'carb_kcal': 1445, 'total_kcal_from_macros': 2700}\n"
     ]
    }
   ],
   "source": [
    "macros = calculate_macros(\n",
    "    goal=\"muscle_gain\",\n",
    "    activity_level=\"moderate\",\n",
    "    tdee=2700,\n",
    "    weight_kg=74,\n",
    "    fitness_level=\"beginner\"\n",
    ")\n",
    "\n",
    "print(macros)\n"
   ]
  },
  {
   "cell_type": "code",
   "execution_count": null,
   "id": "7d41f352",
   "metadata": {},
   "outputs": [],
   "source": []
  }
 ],
 "metadata": {
  "kernelspec": {
   "display_name": "base",
   "language": "python",
   "name": "python3"
  },
  "language_info": {
   "codemirror_mode": {
    "name": "ipython",
    "version": 3
   },
   "file_extension": ".py",
   "mimetype": "text/x-python",
   "name": "python",
   "nbconvert_exporter": "python",
   "pygments_lexer": "ipython3",
   "version": "3.12.2"
  }
 },
 "nbformat": 4,
 "nbformat_minor": 5
}
